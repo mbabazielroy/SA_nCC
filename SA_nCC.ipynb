{
  "nbformat": 4,
  "nbformat_minor": 0,
  "metadata": {
    "colab": {
      "provenance": [],
      "mount_file_id": "1p8evP2p58KtOJeH1bA3tp8BrkRmFRpyA",
      "authorship_tag": "ABX9TyMrw3y5khEjMc9a9sMlYuJJ",
      "include_colab_link": true
    },
    "kernelspec": {
      "name": "python3",
      "display_name": "Python 3"
    },
    "language_info": {
      "name": "python"
    }
  },
  "cells": [
    {
      "cell_type": "markdown",
      "metadata": {
        "id": "view-in-github",
        "colab_type": "text"
      },
      "source": [
        "<a href=\"https://colab.research.google.com/github/mbabazielroy/SA_nCC/blob/main/SA_nCC.ipynb\" target=\"_parent\"><img src=\"https://colab.research.google.com/assets/colab-badge.svg\" alt=\"Open In Colab\"/></a>"
      ]
    },
    {
      "cell_type": "code",
      "source": [
        "cd /content/drive/MyDrive/Polarity_Dataset"
      ],
      "metadata": {
        "colab": {
          "base_uri": "https://localhost:8080/"
        },
        "id": "6eVrEBhuYRSp",
        "outputId": "8b9da60b-df63-4847-9764-9f5ae60c2f4e"
      },
      "execution_count": 1,
      "outputs": [
        {
          "output_type": "stream",
          "name": "stdout",
          "text": [
            "/content/drive/MyDrive/Polarity_Dataset\n"
          ]
        }
      ]
    },
    {
      "cell_type": "code",
      "execution_count": 2,
      "metadata": {
        "colab": {
          "base_uri": "https://localhost:8080/"
        },
        "id": "M_eOYAHIX_He",
        "outputId": "89e73dca-9099-4dfa-ee53-95e3d9f67379"
      },
      "outputs": [
        {
          "output_type": "stream",
          "name": "stderr",
          "text": [
            "[nltk_data] Downloading package stopwords to /root/nltk_data...\n",
            "[nltk_data]   Unzipping corpora/stopwords.zip.\n"
          ]
        }
      ],
      "source": [
        "#from collections import counter\n",
        "import nltk\n",
        "nltk.download('stopwords')\n",
        "from os import listdir\n",
        "from collections import Counter\n",
        "from nltk.corpus import stopwords\n",
        "import string\n",
        "import re\n",
        "import numpy as np\n",
        "from tensorflow.keras.preprocessing.text import Tokenizer\n",
        "from keras.models import Sequential,Model\n",
        "from tensorflow.keras.layers import Dense, Flatten,Embedding\n",
        "from keras.layers import MaxPooling1D , Conv1D\n",
        "from keras.utils import plot_model\n",
        "from keras.utils import pad_sequences\n",
        "from keras.layers import Input, Dropout, Concatenate"
      ]
    },
    {
      "cell_type": "code",
      "source": [
        "#load doc into memory\n",
        "def load_doc(filename):\n",
        "  #open the file as read only\n",
        "  file  = open(filename,'r')\n",
        "  #read all the text\n",
        "  text = file.read()\n",
        "  #close the file\n",
        "  file.close()\n",
        "  return text\n",
        "\n",
        "#load the vocab file\n",
        "vocab_filename = 'vocab.txt'\n",
        "vocab = load_doc(vocab_filename)\n",
        "vocab = set(vocab.split())"
      ],
      "metadata": {
        "id": "0mMShF_TabDS"
      },
      "execution_count": 3,
      "outputs": []
    },
    {
      "cell_type": "code",
      "source": [
        "#cleaning the text document(text data)\n",
        "#remove puncuations, stopwords('English'), Filter out shock tokens\n",
        "def clean_doc(doc):\n",
        "  #split the doc into tokens by white space\n",
        "  tokens = doc.split()\n",
        "  #prepare regex for char filtering\n",
        "  re_punc = re.compile('[%s]'%re.escape(string.punctuation))\n",
        "  #remove puncuation for each word\n",
        "  tokens = [re_punc.sub('',w)for w in tokens]\n",
        "  #remove remaining tokens that are not aplhabetic\n",
        "  tokens = [word for word in tokens if word.isalpha]\n",
        "  #filter out the stop words\n",
        "  stop_words = set(stopwords.words('english'))\n",
        "  tokens = [w for w in tokens if not w in stop_words]\n",
        "  #filter out any tokens that are small in size\n",
        "  tokens = [word for word in tokens if len(word)>1]\n",
        "  return tokens\n",
        "\n",
        "#load doc , clean,return the lines of the tokens\n",
        "def doc_to_line(filename, vocab):\n",
        "  #load doc\n",
        "  doc = load_doc(filename)\n",
        "  #clean the document\n",
        "  tokens = clean_doc(doc)\n",
        "  #filter by vocab\n",
        "  tokens  = [w for w in tokens if w in vocab]\n",
        "  return ' '.join(tokens)\n",
        "\n",
        "#load all the docs in the directoty\n",
        "def process_docs(directory,vocab,is_train):\n",
        "  #define an empty list\n",
        "  lines = list()\n",
        "  #iterate over each file in the folder\n",
        "  for filename in listdir(directory):\n",
        "    #skip reviews in text set\n",
        "    if(is_train and filename.startswith('cv9')):\n",
        "      continue\n",
        "    #create the full path of the file to open\n",
        "    path = directory + '/' + filename\n",
        "    line = doc_to_line(path,vocab)\n",
        "    #add the doc tothe vocab\n",
        "    #add_doc_to_vocab(path,vocab)\n",
        "    #ad to the list\n",
        "    lines.append(line)\n",
        "  return lines\n",
        "\n",
        "#load and clean the data set\n",
        "def load_clean_dataset(vocab,is_train):\n",
        "  #load documents\n",
        "  neg = process_docs('txt_sentoken/neg',vocab, is_train)\n",
        "  pos = process_docs('txt_sentoken/pos',vocab, is_train)\n",
        "  docs = pos + neg\n",
        "  #prepare labels\n",
        "  labels = np.array([ 0 for _ in range(len(neg))] + [1 for _ in range(len(pos))])\n",
        "  return docs,labels"
      ],
      "metadata": {
        "id": "Wp8ap6fpbNKa"
      },
      "execution_count": 4,
      "outputs": []
    },
    {
      "cell_type": "code",
      "source": [
        "#load all the review(training and testing)\n",
        "train_docs, ytrain = load_clean_dataset(vocab,True)\n",
        "test_docs, ytest = load_clean_dataset(vocab,False)"
      ],
      "metadata": {
        "id": "6P8v-NYua9LS"
      },
      "execution_count": 5,
      "outputs": []
    },
    {
      "cell_type": "code",
      "source": [
        "#fit a tokenizer\n",
        "def create_tokenizer(lines):\n",
        "  tokenizer = Tokenizer()\n",
        "  tokenizer.fit_on_texts(lines)\n",
        "  return tokenizer\n",
        "\n",
        "#create the tokenizer\n",
        "tokenizer = create_tokenizer(train_docs)\n",
        "#define the vocab size\n",
        "vocab_size = len(tokenizer.word_index)+1\n",
        "print('Vocab size',vocab_size)\n",
        "#calculate the max length of the sequence\n",
        "max_length = max([len(s.split()) for s in train_docs])\n",
        "print('max_lenght', max_length)\n",
        "\n",
        "#integre encoding and pad documents\n",
        "def encode_docs(tokenizer,max_length,docs):\n",
        "  #integer encode\n",
        "  encoded = tokenizer.texts_to_sequences(docs)\n",
        "  #pad sequences\n",
        "  padded = pad_sequences(encoded, maxlen = max_length, padding = 'post')\n",
        "  return padded\n",
        "\n",
        "#encode data\n",
        "Xtrain = encode_docs(tokenizer,max_length,train_docs)\n",
        "Xtest = encode_docs(tokenizer,max_length,test_docs)"
      ],
      "metadata": {
        "colab": {
          "base_uri": "https://localhost:8080/"
        },
        "id": "PIWJJEc_cv5X",
        "outputId": "39a1c87f-430d-4322-a84f-f5947402a9fc"
      },
      "execution_count": 6,
      "outputs": [
        {
          "output_type": "stream",
          "name": "stdout",
          "text": [
            "Vocab size 14062\n",
            "max_lenght 1241\n"
          ]
        }
      ]
    },
    {
      "cell_type": "code",
      "source": [
        "# Define the multi-channel CNN model\n",
        "def define_model(vocab_size, max_length):\n",
        "    # Channel 1\n",
        "    inputs1 = Input(shape=(max_length,))\n",
        "    embedding1 = Embedding(vocab_size, 100)(inputs1)\n",
        "    conv1 = Conv1D(filters=32, kernel_size=4, activation='relu')(embedding1)\n",
        "    drop1 = Dropout(0.5)(conv1)\n",
        "    pool1 = MaxPooling1D(pool_size=2)(drop1)\n",
        "    flat1 = Flatten()(pool1)\n",
        "\n",
        "    # Channel 2\n",
        "    inputs2 = Input(shape=(max_length,))\n",
        "    embedding2 = Embedding(vocab_size, 100)(inputs2)\n",
        "    conv2 = Conv1D(filters=32, kernel_size=6, activation='relu')(embedding2)\n",
        "    drop2 = Dropout(0.5)(conv2)\n",
        "    pool2 = MaxPooling1D(pool_size=2)(drop2)\n",
        "    flat2 = Flatten()(pool2)\n",
        "\n",
        "    # Channel 3\n",
        "    inputs3 = Input(shape=(max_length,))\n",
        "    embedding3 = Embedding(vocab_size, 100)(inputs3)\n",
        "    conv3 = Conv1D(filters=32, kernel_size=8, activation='relu')(embedding3)\n",
        "    drop3 = Dropout(0.5)(conv3)\n",
        "    pool3 = MaxPooling1D(pool_size=2)(drop3)\n",
        "    flat3 = Flatten()(pool3)\n",
        "\n",
        "    # Merge all channels\n",
        "    merged = Concatenate()([flat1, flat2, flat3])\n",
        "\n",
        "    # Output layer\n",
        "    dense1 = Dense(10, activation='relu')(merged)\n",
        "    output = Dense(1, activation='sigmoid')(dense1)\n",
        "\n",
        "    model = Model(inputs=[inputs1, inputs2, inputs3], outputs=output)\n",
        "\n",
        "    # Compile, summarize and plot the model\n",
        "    model.compile(loss='binary_crossentropy', optimizer='adam', metrics=['accuracy'])\n",
        "    model.summary()\n",
        "    plot_model(model, to_file='model.png', show_shapes=True)\n",
        "\n",
        "    return model\n",
        "\n",
        "# Create and compile the model\n",
        "model = define_model(vocab_size, max_length)\n",
        "\n",
        "# Encode data for multi-channel input\n",
        "Xtrain_multi = [Xtrain, Xtrain, Xtrain]\n",
        "Xtest_multi = [Xtest, Xtest, Xtest]\n",
        "\n",
        "# Evaluate the model\n",
        "loss, acc = model.evaluate(Xtrain_multi, ytrain, verbose=0)\n",
        "print('Training Accuracy: %f' % (acc * 100))\n",
        "\n",
        "loss, acc = model.evaluate(Xtest_multi, ytest, verbose=0)\n",
        "print('Testing Accuracy: %f' % (acc * 100))"
      ],
      "metadata": {
        "colab": {
          "base_uri": "https://localhost:8080/"
        },
        "collapsed": true,
        "id": "LhSAv5Gnf_yd",
        "outputId": "117ecc59-43be-4478-ed2d-a97bd83be864"
      },
      "execution_count": 7,
      "outputs": [
        {
          "output_type": "stream",
          "name": "stdout",
          "text": [
            "Model: \"model\"\n",
            "__________________________________________________________________________________________________\n",
            " Layer (type)                Output Shape                 Param #   Connected to                  \n",
            "==================================================================================================\n",
            " input_1 (InputLayer)        [(None, 1241)]               0         []                            \n",
            "                                                                                                  \n",
            " input_2 (InputLayer)        [(None, 1241)]               0         []                            \n",
            "                                                                                                  \n",
            " input_3 (InputLayer)        [(None, 1241)]               0         []                            \n",
            "                                                                                                  \n",
            " embedding (Embedding)       (None, 1241, 100)            1406200   ['input_1[0][0]']             \n",
            "                                                                                                  \n",
            " embedding_1 (Embedding)     (None, 1241, 100)            1406200   ['input_2[0][0]']             \n",
            "                                                                                                  \n",
            " embedding_2 (Embedding)     (None, 1241, 100)            1406200   ['input_3[0][0]']             \n",
            "                                                                                                  \n",
            " conv1d (Conv1D)             (None, 1238, 32)             12832     ['embedding[0][0]']           \n",
            "                                                                                                  \n",
            " conv1d_1 (Conv1D)           (None, 1236, 32)             19232     ['embedding_1[0][0]']         \n",
            "                                                                                                  \n",
            " conv1d_2 (Conv1D)           (None, 1234, 32)             25632     ['embedding_2[0][0]']         \n",
            "                                                                                                  \n",
            " dropout (Dropout)           (None, 1238, 32)             0         ['conv1d[0][0]']              \n",
            "                                                                                                  \n",
            " dropout_1 (Dropout)         (None, 1236, 32)             0         ['conv1d_1[0][0]']            \n",
            "                                                                                                  \n",
            " dropout_2 (Dropout)         (None, 1234, 32)             0         ['conv1d_2[0][0]']            \n",
            "                                                                                                  \n",
            " max_pooling1d (MaxPooling1  (None, 619, 32)              0         ['dropout[0][0]']             \n",
            " D)                                                                                               \n",
            "                                                                                                  \n",
            " max_pooling1d_1 (MaxPoolin  (None, 618, 32)              0         ['dropout_1[0][0]']           \n",
            " g1D)                                                                                             \n",
            "                                                                                                  \n",
            " max_pooling1d_2 (MaxPoolin  (None, 617, 32)              0         ['dropout_2[0][0]']           \n",
            " g1D)                                                                                             \n",
            "                                                                                                  \n",
            " flatten (Flatten)           (None, 19808)                0         ['max_pooling1d[0][0]']       \n",
            "                                                                                                  \n",
            " flatten_1 (Flatten)         (None, 19776)                0         ['max_pooling1d_1[0][0]']     \n",
            "                                                                                                  \n",
            " flatten_2 (Flatten)         (None, 19744)                0         ['max_pooling1d_2[0][0]']     \n",
            "                                                                                                  \n",
            " concatenate (Concatenate)   (None, 59328)                0         ['flatten[0][0]',             \n",
            "                                                                     'flatten_1[0][0]',           \n",
            "                                                                     'flatten_2[0][0]']           \n",
            "                                                                                                  \n",
            " dense (Dense)               (None, 10)                   593290    ['concatenate[0][0]']         \n",
            "                                                                                                  \n",
            " dense_1 (Dense)             (None, 1)                    11        ['dense[0][0]']               \n",
            "                                                                                                  \n",
            "==================================================================================================\n",
            "Total params: 4869597 (18.58 MB)\n",
            "Trainable params: 4869597 (18.58 MB)\n",
            "Non-trainable params: 0 (0.00 Byte)\n",
            "__________________________________________________________________________________________________\n",
            "Training Accuracy: 49.611112\n",
            "Testing Accuracy: 49.550000\n"
          ]
        }
      ]
    },
    {
      "cell_type": "code",
      "source": [
        "from keras import callbacks\n",
        "# Implement early stopping to handle overfitting or underfitting\n",
        "early_stopping = callbacks.EarlyStopping(monitor='val_loss', min_delta=0.001, patience=10, restore_best_weights=True)\n",
        "\n",
        "# Fit the model with early stopping\n",
        "history = model.fit(Xtrain_multi, ytrain, epochs=10, verbose=2, validation_split=0.2, callbacks=[early_stopping])\n"
      ],
      "metadata": {
        "id": "p66dPdkcrLK2",
        "colab": {
          "base_uri": "https://localhost:8080/"
        },
        "outputId": "415fe247-9666-49e1-f659-a8376f524d49"
      },
      "execution_count": 8,
      "outputs": [
        {
          "output_type": "stream",
          "name": "stdout",
          "text": [
            "Epoch 1/10\n",
            "45/45 - 26s - loss: 0.6786 - accuracy: 0.6118 - val_loss: 0.9458 - val_accuracy: 0.0000e+00 - 26s/epoch - 569ms/step\n",
            "Epoch 2/10\n",
            "45/45 - 27s - loss: 0.5374 - accuracy: 0.6382 - val_loss: 1.1098 - val_accuracy: 0.0028 - 27s/epoch - 608ms/step\n",
            "Epoch 3/10\n",
            "45/45 - 25s - loss: 0.3209 - accuracy: 0.9007 - val_loss: 1.1807 - val_accuracy: 0.1778 - 25s/epoch - 549ms/step\n",
            "Epoch 4/10\n",
            "45/45 - 22s - loss: 0.2607 - accuracy: 0.9792 - val_loss: 1.3666 - val_accuracy: 0.2194 - 22s/epoch - 491ms/step\n",
            "Epoch 5/10\n",
            "45/45 - 25s - loss: 0.2392 - accuracy: 0.9958 - val_loss: 1.0844 - val_accuracy: 0.4444 - 25s/epoch - 566ms/step\n",
            "Epoch 6/10\n",
            "45/45 - 23s - loss: 0.2287 - accuracy: 0.9993 - val_loss: 1.1581 - val_accuracy: 0.4528 - 23s/epoch - 504ms/step\n",
            "Epoch 7/10\n",
            "45/45 - 27s - loss: 0.2194 - accuracy: 0.9993 - val_loss: 1.3764 - val_accuracy: 0.3417 - 27s/epoch - 601ms/step\n",
            "Epoch 8/10\n",
            "45/45 - 23s - loss: 0.2121 - accuracy: 0.9986 - val_loss: 1.1986 - val_accuracy: 0.4611 - 23s/epoch - 502ms/step\n",
            "Epoch 9/10\n",
            "45/45 - 25s - loss: 0.2041 - accuracy: 1.0000 - val_loss: 1.0885 - val_accuracy: 0.5528 - 25s/epoch - 547ms/step\n",
            "Epoch 10/10\n",
            "45/45 - 22s - loss: 0.1971 - accuracy: 0.9993 - val_loss: 1.0091 - val_accuracy: 0.6139 - 22s/epoch - 493ms/step\n"
          ]
        }
      ]
    },
    {
      "cell_type": "code",
      "source": [
        "import matplotlib.pyplot as plt\n",
        "\n",
        "plt.plot(history.history['accuracy'])\n",
        "plt.plot(history.history['val_accuracy'])\n",
        "plt.title('CNN model Accuracy')\n",
        "plt.ylabel('accuracy')\n",
        "plt.xlabel('epoch')\n",
        "plt.legend(['train','val'],loc='upper left')\n",
        "plt.savefig('accuracy_plot.png')\n",
        "plt.show()"
      ],
      "metadata": {
        "colab": {
          "base_uri": "https://localhost:8080/",
          "height": 472
        },
        "id": "Pw-0T6RroqOt",
        "outputId": "4fdeccf1-8f96-455e-fc04-8cf09312720e"
      },
      "execution_count": 9,
      "outputs": [
        {
          "output_type": "display_data",
          "data": {
            "text/plain": [
              "<Figure size 640x480 with 1 Axes>"
            ],
            "image/png": "[encoded data removed]"
          },
          "metadata": {}
        }
      ]
    },
    {
      "cell_type": "code",
      "source": [
        "plt.plot(history.history['loss'])\n",
        "plt.plot(history.history['val_loss'])\n",
        "plt.title('CNN model loss')\n",
        "plt.ylabel('loss')\n",
        "plt.xlabel('epoch')\n",
        "plt.legend(['train','val'],loc='upper left')\n",
        "plt.savefig('loss_plot.png')\n",
        "plt.show()"
      ],
      "metadata": {
        "colab": {
          "base_uri": "https://localhost:8080/",
          "height": 472
        },
        "id": "zbBU_ak9qyZ8",
        "outputId": "34d906eb-c775-4e6c-ae21-2827a3612a5a"
      },
      "execution_count": 10,
      "outputs": [
        {
          "output_type": "display_data",
          "data": {
            "text/plain": [
              "<Figure size 640x480 with 1 Axes>"
            ],
            "image/png": "[encoded data removed]"
          },
          "metadata": {}
        }
      ]
    },
    {
      "cell_type": "code",
      "source": [
        "# Modify the predict_sentiment function to handle multi-channel input\n",
        "def predict_sentiment(review, vocab, tokenizer, model):\n",
        "    tokens = clean_doc(review)\n",
        "    tokens = [w for w in tokens if w in vocab]\n",
        "    line = ' '.join(tokens)\n",
        "    encoded = encode_docs(tokenizer, max_length, [line])\n",
        "    encoded_multi = [encoded, encoded, encoded]\n",
        "    yhat = model.predict(encoded_multi, verbose=0)\n",
        "    percent_pos = yhat[0, 0]\n",
        "    if (round(percent_pos) == 0):\n",
        "        return (1 - percent_pos), 'NEGATIVE'\n",
        "    return percent_pos, 'POSITIVE'"
      ],
      "metadata": {
        "id": "s-3TaOsWuPD3"
      },
      "execution_count": 11,
      "outputs": []
    },
    {
      "cell_type": "code",
      "source": [
        "# Test the sentiment prediction function with multi-channel model\n",
        "reviews = [\n",
        "    'The Lion King is arguably up for one of the best films of all time.',\n",
        "    'At this point in animation history, we can expect no less than perfection from Disney, and they deliver.',\n",
        "    'With its remarkable narrative, memorable characters, stunning animation, and brilliant music, The Lion King remains the very pinnacle of Disneys animated achievements.',\n",
        "    'Although far from the worst offender in Disneys canon, The Lion King is nevertheless host to many of the less savory qualities common to the studios output.',\n",
        "    'Soulless chimera of a film [that] comes off as little more than a glorified tech demo from a greedy conglomerate — a well-rendered but creatively bankrupt self-portrait of a movie studio eating its own tail.',\n",
        "    'It’s the work of a studio that’s gobbled up the rest of the film industry and is still hungry for more. The Lion King feels less like a remake than a snuff film, and a boring one at that.'\n",
        "]\n",
        "\n",
        "with open('SAEval.txt', 'w') as f:\n",
        "    f.write('Model Summary:\\n')\n",
        "    model.summary(print_fn=lambda x: f.write(x + '\\n'))  # Write model summary\n",
        "    f.write('\\n\\n')\n",
        "\n",
        "    f.write('Sentiment Predictions:\\n')\n",
        "    for review in reviews:\n",
        "        percent, sentiment = predict_sentiment(review, vocab, tokenizer, model)\n",
        "        f.write(f'Review: {review}\\nSentiment: {sentiment}\\nPercent: {percent * 100:.2f}%\\n\\n')\n",
        "        print('Review:', review, 'Sentiment:', sentiment, 'Percent: %f' % (percent * 100))"
      ],
      "metadata": {
        "colab": {
          "base_uri": "https://localhost:8080/"
        },
        "id": "DwCet0mplThN",
        "outputId": "f21a487e-83ac-4752-8905-98d3a5d90b76"
      },
      "execution_count": 12,
      "outputs": [
        {
          "output_type": "stream",
          "name": "stdout",
          "text": [
            "Review: The Lion King is arguably up for one of the best films of all time. Sentiment: POSITIVE Percent: 59.759730\n",
            "Review: At this point in animation history, we can expect no less than perfection from Disney, and they deliver. Sentiment: POSITIVE Percent: 57.246816\n",
            "Review: With its remarkable narrative, memorable characters, stunning animation, and brilliant music, The Lion King remains the very pinnacle of Disneys animated achievements. Sentiment: NEGATIVE Percent: 56.451753\n",
            "Review: Although far from the worst offender in Disneys canon, The Lion King is nevertheless host to many of the less savory qualities common to the studios output. Sentiment: POSITIVE Percent: 59.759730\n",
            "Review: Soulless chimera of a film [that] comes off as little more than a glorified tech demo from a greedy conglomerate — a well-rendered but creatively bankrupt self-portrait of a movie studio eating its own tail. Sentiment: POSITIVE Percent: 59.759730\n",
            "Review: It’s the work of a studio that’s gobbled up the rest of the film industry and is still hungry for more. The Lion King feels less like a remake than a snuff film, and a boring one at that. Sentiment: POSITIVE Percent: 59.759730\n"
          ]
        }
      ]
    }
  ]
}